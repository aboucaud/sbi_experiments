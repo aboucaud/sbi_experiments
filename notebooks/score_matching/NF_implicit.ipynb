{
 "cells": [
  {
   "cell_type": "markdown",
   "id": "e30d2262",
   "metadata": {
    "colab_type": "text",
    "id": "view-in-github"
   },
   "source": [
    "<a href=\"https://colab.research.google.com/github/astrodeepnet/sbi_experiments/blob/ramp_bijector/notebooks/score_matching/NF_implicit.ipynb\" target=\"_parent\"><img src=\"https://colab.research.google.com/assets/colab-badge.svg\" alt=\"Open In Colab\"/></a>"
   ]
  },
  {
   "cell_type": "markdown",
   "id": "-ksfVXYDmE17",
   "metadata": {
    "id": "-ksfVXYDmE17"
   },
   "source": [
    "# Nomalizing Flow with implicit coupling layers\n"
   ]
  },
  {
   "cell_type": "code",
   "execution_count": 1,
   "id": "3830d842",
   "metadata": {
    "colab": {
     "base_uri": "https://localhost:8080/"
    },
    "id": "3830d842",
    "outputId": "f803a6e1-6838-4d5e-9a37-353043e47a6c"
   },
   "outputs": [],
   "source": [
    "#!pip install --quiet --upgrade dm-haiku optax tensorflow-probability\n",
    "#!pip install --quiet git+https://github.com/astrodeepnet/sbi_experiments.git@ramp_bijector"
   ]
  },
  {
   "cell_type": "code",
   "execution_count": 2,
   "id": "Hc32pZP7mvkJ",
   "metadata": {
    "colab": {
     "base_uri": "https://localhost:8080/"
    },
    "id": "Hc32pZP7mvkJ",
    "outputId": "731712d1-a76d-4718-9215-3ec85a450693"
   },
   "outputs": [
    {
     "name": "stdout",
     "output_type": "stream",
     "text": [
      "Populating the interactive namespace from numpy and matplotlib\n"
     ]
    }
   ],
   "source": [
    "%pylab inline\n",
    "%load_ext autoreload\n",
    "%autoreload 2\n",
    "import jax\n",
    "import jax.numpy as jnp\n",
    "import numpy as onp\n",
    "import haiku as hk\n",
    "import optax\n",
    "from functools import partial\n",
    "from tqdm import tqdm\n",
    "from tensorflow_probability.substrates import jax as tfp\n",
    "tfd = tfp.distributions\n",
    "tfb = tfp.bijectors\n",
    "tfpk = tfp.math.psd_kernels"
   ]
  },
  {
   "cell_type": "code",
   "execution_count": 3,
   "id": "Vjg7DR8Mm3ma",
   "metadata": {
    "id": "Vjg7DR8Mm3ma"
   },
   "outputs": [],
   "source": [
    "d=2\n",
    "batch_size = 1024"
   ]
  },
  {
   "cell_type": "code",
   "execution_count": 4,
   "id": "SCV_fApFm5B6",
   "metadata": {
    "id": "SCV_fApFm5B6"
   },
   "outputs": [],
   "source": [
    "from sbiexpt.distributions import get_two_moons\n",
    "from sbiexpt.bijectors import ImplicitRampBijector"
   ]
  },
  {
   "cell_type": "code",
   "execution_count": 5,
   "id": "QlkFc_kMFwdp",
   "metadata": {
    "id": "QlkFc_kMFwdp"
   },
   "outputs": [],
   "source": [
    "@jax.jit\n",
    "def get_batch(seed):\n",
    "  two_moons = get_two_moons(sigma= 0.01)\n",
    "  batch = two_moons.sample(batch_size, seed=seed)\n",
    "  return batch"
   ]
  },
  {
   "cell_type": "code",
   "execution_count": 6,
   "id": "VJDFS8Gd7zTQ",
   "metadata": {
    "id": "VJDFS8Gd7zTQ"
   },
   "outputs": [],
   "source": [
    "class CustomCoupling(hk.Module):\n",
    "  \"\"\"This is the coupling layer used in the Flow.\"\"\"\n",
    "  def __call__(self, x, output_units, **condition_kwargs):\n",
    "\n",
    "    # NN to get a b and c\n",
    "    net = hk.Linear(128)(x)\n",
    "    net = jax.nn.leaky_relu(net)\n",
    "    net = hk.Linear(128)(net)\n",
    "    net = jax.nn.leaky_relu(net)\n",
    "    a   = jax.nn.softplus(hk.Linear(output_units)(net))\n",
    "    b   = jax.nn.sigmoid(hk.Linear(output_units)(net))\n",
    "    c   = jax.nn.sigmoid(hk.Linear(output_units)(net))\n",
    "    return ImplicitRampBijector(lambda x: x**3, a,b,c)\n",
    "\n",
    "class Flow(hk.Module):\n",
    "    \"\"\"A normalizing flow using the coupling layers defined\n",
    "    above.\"\"\"\n",
    "    def __call__(self):\n",
    "      chain = tfb.Chain([\n",
    "            tfb.RealNVP(d//2, bijector_fn=CustomCoupling(name = 'b1')),\n",
    "            tfb.Permute([1,0]),\n",
    "            tfb.RealNVP(d//2, bijector_fn=CustomCoupling(name = 'b2')),\n",
    "            tfb.Permute([1,0]),\n",
    "        ])\n",
    "      \n",
    "      nvp = tfd.TransformedDistribution(\n",
    "            tfd.MultivariateNormalDiag(0.5*jnp.ones(d),0.1*jnp.ones(d)),\n",
    "            bijector=chain)\n",
    "        \n",
    "      return nvp"
   ]
  },
  {
   "cell_type": "code",
   "execution_count": 7,
   "id": "ylT0Cf7r8G0e",
   "metadata": {
    "id": "ylT0Cf7r8G0e"
   },
   "outputs": [],
   "source": [
    "model_NF = hk.without_apply_rng(hk.transform(lambda x : Flow()().log_prob(x)))"
   ]
  },
  {
   "cell_type": "code",
   "execution_count": 8,
   "id": "-9ZOpqD28Gx1",
   "metadata": {
    "id": "-9ZOpqD28Gx1"
   },
   "outputs": [
    {
     "name": "stderr",
     "output_type": "stream",
     "text": [
      "WARNING:absl:No GPU/TPU found, falling back to CPU. (Set TF_CPP_MIN_LOG_LEVEL=0 and rerun for more info.)\n"
     ]
    }
   ],
   "source": [
    "rng_seq = hk.PRNGSequence(12)\n",
    "params = model_NF.init(next(rng_seq), jnp.zeros([1,d]))"
   ]
  },
  {
   "cell_type": "code",
   "execution_count": 9,
   "id": "bjXg45N58Gu_",
   "metadata": {
    "id": "bjXg45N58Gu_"
   },
   "outputs": [],
   "source": [
    "# TO DO\n",
    "@jax.jit\n",
    "def loss_fn(params, batch):\n",
    "  log_prob = model_NF.apply(params, batch)\n",
    "  return -jnp.mean(log_prob)"
   ]
  },
  {
   "cell_type": "code",
   "execution_count": 10,
   "id": "vKyWyEct8GsD",
   "metadata": {
    "id": "vKyWyEct8GsD"
   },
   "outputs": [],
   "source": [
    "@jax.jit\n",
    "def update(params, opt_state, batch):\n",
    "    \"\"\"Single SGD update step.\"\"\"\n",
    "    loss, grads = jax.value_and_grad(loss_fn)(params, batch)\n",
    "    updates, new_opt_state = optimizer.update(grads, opt_state)\n",
    "    new_params = optax.apply_updates(params, updates)\n",
    "  \n",
    "    return loss, new_params, new_opt_state"
   ]
  },
  {
   "cell_type": "code",
   "execution_count": 11,
   "id": "y8UW790jFjxK",
   "metadata": {
    "id": "y8UW790jFjxK"
   },
   "outputs": [],
   "source": [
    "learning_rate=0.001\n",
    "optimizer = optax.adam(learning_rate)\n",
    "opt_state = optimizer.init(params)"
   ]
  },
  {
   "cell_type": "code",
   "execution_count": 12,
   "id": "cgpoNZNyFjrY",
   "metadata": {
    "id": "cgpoNZNyFjrY"
   },
   "outputs": [],
   "source": [
    "losses = []\n",
    "master_seed = hk.PRNGSequence(0)"
   ]
  },
  {
   "cell_type": "code",
   "execution_count": 13,
   "id": "5sHvoJrgFjn6",
   "metadata": {
    "colab": {
     "base_uri": "https://localhost:8080/",
     "height": 841
    },
    "id": "5sHvoJrgFjn6",
    "outputId": "b558778e-eb49-44be-8d72-7bc6dfaf1e5d"
   },
   "outputs": [
    {
     "name": "stderr",
     "output_type": "stream",
     "text": [
      "100%|██████████| 10/10 [00:09<00:00,  1.04it/s]\n"
     ]
    }
   ],
   "source": [
    "for step in tqdm(range(10)):\n",
    "    batch = get_batch(next(master_seed))\n",
    "    l, params, opt_state = update(params, opt_state, batch)\n",
    "    losses.append(l)"
   ]
  },
  {
   "cell_type": "code",
   "execution_count": null,
   "id": "7gzKKxIJ8GpA",
   "metadata": {
    "id": "7gzKKxIJ8GpA"
   },
   "outputs": [],
   "source": []
  }
 ],
 "metadata": {
  "accelerator": "GPU",
  "colab": {
   "include_colab_link": true,
   "name": "NF_implicit.ipynb",
   "provenance": []
  },
  "kernelspec": {
   "display_name": "sbi",
   "language": "python",
   "name": "sbi"
  },
  "language_info": {
   "codemirror_mode": {
    "name": "ipython",
    "version": 3
   },
   "file_extension": ".py",
   "mimetype": "text/x-python",
   "name": "python",
   "nbconvert_exporter": "python",
   "pygments_lexer": "ipython3",
   "version": "3.6.13"
  }
 },
 "nbformat": 4,
 "nbformat_minor": 5
}
